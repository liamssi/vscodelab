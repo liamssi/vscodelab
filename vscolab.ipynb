{
  "nbformat": 4,
  "nbformat_minor": 0,
  "metadata": {
    "colab": {
      "name": "vscolab f",
      "provenance": [],
      "collapsed_sections": [],
      "authorship_tag": "ABX9TyMm233l+cETkpWitkvRTYl+",
      "include_colab_link": true
    },
    "kernelspec": {
      "name": "python3",
      "display_name": "Python 3"
    }
  },
  "cells": [
    {
      "cell_type": "markdown",
      "metadata": {
        "id": "view-in-github",
        "colab_type": "text"
      },
      "source": [
        "<a href=\"https://colab.research.google.com/github/liamssi/vscolab/blob/master/vscolab.ipynb\" target=\"_parent\"><img src=\"https://colab.research.google.com/assets/colab-badge.svg\" alt=\"Open In Colab\"/></a>"
      ]
    },
    {
      "cell_type": "markdown",
      "metadata": {
        "id": "mknDxdTiCXtN",
        "colab_type": "text"
      },
      "source": [
        "># 1.WORKSPACE CONFIGURATION"
      ]
    },
    {
      "cell_type": "code",
      "metadata": {
        "id": "fZA4GsNj-Zqi",
        "colab_type": "code",
        "colab": {}
      },
      "source": [
        "\"\"\"\n",
        "This will configure some envirement variabs to be used later in further steps to\n",
        "as parameters to set the workspace for you\n",
        "\"\"\"\n",
        "import os\n",
        "\n",
        "\n",
        "### GIT CONFIG\n",
        "#(REQUIRED/OPTIONAL)required/optional depending on your setup (private or public git)\n",
        "os.environ['GIT_USER']='' #your github user: FIRST_NAME LAST_NAME   \n",
        "os.environ['GITHUB_EMAIL']='' #your github email\n",
        "\n",
        "#(OPTIONAL)this repo will be used as the default workspace to open in vs code \n",
        "os.environ['GITHUB_REPO'] = '' #IT'S IMPORTANT TO REMOVE THE 'https://' PART OF THE URL\n",
        "\n",
        "#(OPTIONAL) you only need to set these if you are using a private repo \n",
        "os.environ['PRIVAT_REPO'] =\"true\" #ANY STRING OTHER THAN 'FALSE' WILL BE TAKEN AS TRUE (CASE INSENSITIVE)\n",
        "os.environ['GITHUB_USERNAME']=''  \n",
        "os.environ['GITHUB_PASS'] =\"\"\n",
        "\n",
        "\n",
        "\n",
        "# (OPTIONAL)NGROK CONFIG \n",
        "#IF YOU NEED TO EXPOSE OTHER ORTS THIS ID REQUIRED AS NGROK ONLY PERMIT ONE TUNNEL FOR NON AUTHENTICATED USERS\n",
        "#os.environ['NGROK_TOKEN']=''\n",
        "\n",
        "#VSCODE CONFIG \n",
        "#(REQUIRED)local port to launch VS CODE SERVER on \n",
        "os.environ['VSCODE_PORT'] = '8389' #YOU PORBABLY DON'T NEED TO CHANGE THIS\n",
        "\n",
        "#(OPTIONAL) other local ports to expose(EXAMPLE: your web dev server port)\n",
        "#you may declare many multip ports seperated by spaces ('OTHER_PORTS') but that requires a paid ngrok example: os.environ['OTHER_PORTS'] = '3000 3001 3002'\n",
        "#os.environ['OTHER_PORTS'] = '3000' #CHANGE THIS DEPENDING ON THE PORT YOUR WEB SERVER USES"
      ],
      "execution_count": null,
      "outputs": []
    },
    {
      "cell_type": "markdown",
      "metadata": {
        "id": "frdLPvGjkQGC",
        "colab_type": "text"
      },
      "source": [
        "># 2. INSTALL REQUIRED TOOLS \n",
        "---\n",
        "> * install code editor VS Code - [Code Server](https://github.com/cdr/code-server) \n",
        "> * install port forwading tool [Ngrok](https://ngrok.com/) and its Python wrapper [PyNgrok](https://pyngrok.readthedocs.io/)\n",
        "> * install the latest version of [Node.Js](https://nodejs.org/)\n"
      ]
    },
    {
      "cell_type": "code",
      "metadata": {
        "id": "aMW6gKt70ddE",
        "colab_type": "code",
        "colab": {}
      },
      "source": [
        "%%shell\n",
        "#install VS Code server \n",
        "echo \n",
        "echo\n",
        "echo \"--------------------------\"\n",
        "echo \"- Installing code server -\"\n",
        "echo \"--------------------------\"\n",
        "echo\n",
        "echo\n",
        "curl -fsSL https://code-server.dev/install.sh | sh\n",
        "\n",
        "#download and install ngrok tool\n",
        "echo\n",
        "echo\n",
        "echo \"--------------------------\"\n",
        "echo \"-   Installing Ngrock    -\"\n",
        "echo \"--------------------------\"\n",
        "echo\n",
        "echo\n",
        "wget -q -c -nc https://bin.equinox.io/c/4VmDzA7iaHb/ngrok-stable-linux-amd64.zip  #Download\n",
        "unzip -qq -n  ngrok-stable-linux-amd64.zip #Unzip \n",
        "#Pyngrok will installl the binaries for us \n",
        "pip install pyngrok #install ngrok python Python wrapper (this is better way to install because it automaticaly addes ngrok to the PATH)\n",
        "#echo 'ngrok installed ...'\n",
        "\n",
        "#install a newer version of node.Js\n",
        "echo\n",
        "echo\n",
        "echo \"--------------------------\"\n",
        "echo \"-   Installing node.Js   -\"\n",
        "echo \"--------------------------\"\n",
        "echo\n",
        "echo\n",
        "\n",
        "curl -sL https://deb.nodesource.com/setup_14.x | sudo -E bash - #Add Node.js PPA to sources files \n",
        "apt install nodejs -y #Install node.JS "
      ],
      "execution_count": null,
      "outputs": []
    },
    {
      "cell_type": "markdown",
      "metadata": {
        "id": "t3Prhhnf7unS",
        "colab_type": "text"
      },
      "source": [
        "># 3.WORKSPACE CONFIGURATION \n",
        "---\n",
        "> > * set basic configuration for git client (See [Docs](https://git-scm.com/docs/git-config) )\n",
        "> * clone your gihub repo if exists\n",
        "> * generate ngrok config to (See [Docs](https://ngrok.com/docs))"
      ]
    },
    {
      "cell_type": "code",
      "metadata": {
        "id": "Z7vIRgcKX5a5",
        "colab_type": "code",
        "colab": {}
      },
      "source": [
        "#git configuration \n",
        "%%shell\n",
        "git config --global --replace-all user.name  \"${GIT_USER_NAME}\"\n",
        "git config --global  --replace-all user.email $GITHUB_EMAIL\n",
        "#CLONE REPO \n",
        "PRIVAT_REPO=${PRIVAT_REPO,,}\n",
        "  if [[ $GITHUB_REPO  &&  $PRIVAT_REPO && $PRIVAT_REPO != \"false\" ]] ; then\n",
        "       REPO=\"https://${GITHUB_USERNAME}:${GITHUB_PASS}@${GITHUB_REPO}\"\n",
        "  elif [ $GITHUB_REPO ]; then \n",
        "      REPO=\"https://${GITHUB_REPO}\"\n",
        "  fi\n",
        "#echo ${REPO}\n",
        "git clone $REPO"
      ],
      "execution_count": null,
      "outputs": []
    },
    {
      "cell_type": "code",
      "metadata": {
        "id": "7ohMm0HU0ppP",
        "colab_type": "code",
        "colab": {}
      },
      "source": [
        "#generate a config file for ngrok\n",
        "%%shell\n",
        "mkdir /root/.ngrok2/ #create ngrok config dir if not exist\n",
        "\n",
        "if [ $NGROK_TOKEN ]; then\n",
        "       echo \"authtoken: ${NGROK_TOKEN}\" > /root/.ngrok2/ngrok.yml\n",
        "fi\n",
        "echo \"tunnels:\n",
        "  vscode:\n",
        "    addr: ${VSCODE_PORT}\n",
        "    proto: http\n",
        "    inspect: false\n",
        "    region: eu\">> /root/.ngrok2/ngrok.yml\n",
        "\n",
        "for PORT  in ${OTHER_PORTS[@]}; do\n",
        "  echo \"  APP_${PORT}:\n",
        "    addr: ${PORT}\n",
        "    proto: http\n",
        "    inspect: false\n",
        "    region: eu\">> /root/.ngrok2/ngrok.yml\n",
        "done\n",
        "\n",
        "cat /root/.ngrok2/ngrok.yml"
      ],
      "execution_count": null,
      "outputs": []
    },
    {
      "cell_type": "markdown",
      "metadata": {
        "id": "KdrFdIaRJxe-",
        "colab_type": "text"
      },
      "source": [
        "># 4.START THE WORKSPACE\n",
        "---\n",
        "> > * start VS Code Server (See [Docs](https://github.com/cdr/code-server/blob/master/doc/guide.md#3-expose-code-server) )\n",
        "> * start ngrok tunneling to expose local envirement to the internet (See [Docs](https://ngrok.com/docs))"
      ]
    },
    {
      "cell_type": "code",
      "metadata": {
        "id": "xrjOYqmnovqK",
        "colab_type": "code",
        "colab": {}
      },
      "source": [
        "#--------------------------#\n",
        "#     launch workspace     #   \n",
        "#--------------------------#\n",
        "#start code server (on port VSCODE_PORT)\n",
        "import time\n",
        "GITHUB_REPO=os.environ['GITHUB_REPO']\n",
        "REPONAME=GITHUB_REPO[GITHUB_REPO.rfind(\"/\")+1:GITHUB_REPO.rfind(\".git\")] #extract the repo name from github url\n",
        "\n",
        "cmd=f\"code-server ./{REPONAME} --bind-addr 127.0.0.1:{os.environ['VSCODE_PORT']} &\"\n",
        "\n",
        "get_ipython().system_raw(cmd)\n",
        "get_ipython().system_raw(\"ngrok start --all &\")\n",
        "#sleep for while and wait for the background services to start\n",
        "time.sleep(10)"
      ],
      "execution_count": null,
      "outputs": []
    },
    {
      "cell_type": "code",
      "metadata": {
        "id": "cf3Rb6gc57vw",
        "colab_type": "code",
        "colab": {}
      },
      "source": [
        "\n",
        "#--------------------------#\n",
        "#     helpper function     #   \n",
        "#--------------------------#\n",
        "import psutil\n",
        "import requests\n",
        "\n",
        "\n",
        "#this is a hellper function that will be used to kill background services later if needed\n",
        "def get_tunnels():\n",
        "  try:\n",
        "    r=requests.get('http://127.0.0.1:4040/api/tunnels')\n",
        "    tunnels=r.json()['tunnels']\n",
        "    print(\"[!] YOUR ACTIVE TUNNELS ARE :\")\n",
        "  except:\n",
        "    print(\"Can't access ngrok local api\")\n",
        "    print(\"Are you sure you ngrok is running?\")\n",
        "    return ''\n",
        "  for tunnel in tunnels:\n",
        "    if 'https' in tunnel['public_url']:\n",
        "      print(f\"{ tunnel['name'].ljust(10) }  : {tunnel['public_url']}\")\n",
        "  return tunnels\n",
        "\n",
        "#kill proces\n",
        "def kill_process(procname):\n",
        "  proc_count=0\n",
        "  for proc in psutil.process_iter():\n",
        "    # check whether the process name matches\n",
        "    if proc.name() == procname:\n",
        "      proc.kill()\n",
        "      #print(proc.name())\n",
        "      proc_count+=1\n",
        "  print(f\"killed {proc_count} process..\")\n"
      ],
      "execution_count": null,
      "outputs": []
    },
    {
      "cell_type": "markdown",
      "metadata": {
        "id": "mTsUciiB1uXK",
        "colab_type": "text"
      },
      "source": [
        "># 4.PROVIDE WORKSPACE INFOS \n",
        "---\n",
        "> * here you will find all the infos you need to start using your workspace\n",
        "> * these infos include :\n",
        ">   * public URL for your VS Code workspace\n",
        ">   * public URL for your web server\n",
        ">   * your VS Code password\n",
        "\n",
        "> #### NOTE: To end your workspace you simply run :\n",
        "> ```\n",
        "> kill_process(\"ngrok\")\n",
        ">```"
      ]
    },
    {
      "cell_type": "code",
      "metadata": {
        "id": "mQvUMgIUxT9-",
        "colab_type": "code",
        "colab": {}
      },
      "source": [
        "#result\n",
        "tuns=get_tunnels()\n",
        "print(\"*****************************\")\n",
        "print(\"[!] YOUR VS CODE PASSWORD IS   :\")\n",
        "\n",
        "!cat ~/.config/code-server/config.yaml|grep password:"
      ],
      "execution_count": null,
      "outputs": []
    },
    {
      "cell_type": "code",
      "metadata": {
        "id": "b40uiU1s-WFz",
        "colab_type": "code",
        "colab": {}
      },
      "source": [
        "#uncomment and run bellow line to stop exposing your workspace to the internet\n",
        "#kill_process(\"ngrok\")"
      ],
      "execution_count": null,
      "outputs": []
    }
  ]
}
